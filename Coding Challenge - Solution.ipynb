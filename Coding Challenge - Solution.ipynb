{
 "cells": [
  {
   "cell_type": "markdown",
   "metadata": {},
   "source": [
    "# Cornershop - Fast Coding Test\n",
    "**Q.1.** Write a python function that receives x and y coordinates as parameters (1 integer for each), and returns the score as an integer:"
   ]
  },
  {
   "cell_type": "code",
   "execution_count": 1,
   "metadata": {},
   "outputs": [],
   "source": [
    "import math # For calculating arctan(y/x)\n",
    "import random\n",
    "\n",
    "# Creating a list of points corresponding to each segment\n",
    "pointArr = [13,4,18,1,20,5,12,9,14,11,8,16,7,19,3,17,2,15,10,6]\n",
    "\n",
    "def calculate_score_given_point(x, y):\n",
    "    \"\"\"\n",
    "    Receives coordinates of a dart, and returns the corresponding score\n",
    "    Parameters: Integer x and integer y, denoting a cartesian point\n",
    "    Return Value: Calculated score of given point as an integer\n",
    "    \"\"\"\n",
    "    distance = math.sqrt(x*x + y*y) # first, calculating the distance \n",
    "    point = 0 # initializes the point as zero\n",
    "    if distance > 144: # checks if the dart is outside the target\n",
    "        return 0\n",
    "    if distance <= 10: # checks if bull's eyes is hit\n",
    "        point = 50\n",
    "    elif distance <= 20: # checks if bull is hit\n",
    "        point = 25\n",
    "    else: # finds the segment and whether rings are hit, given target is hit \n",
    "        # finding which segment is hit\n",
    "        angle_in_rad = math.atan2(y, x)\n",
    "        angle_in_deg = math.degrees(angle_in_rad)\n",
    "        temp = angle_in_deg - 9 # normalizes the angle to one of segments\n",
    "        if temp < 0:\n",
    "            temp += 360\n",
    "        segment = temp / 18 # index holds the segment\n",
    "        truncated = math.trunc(segment)\n",
    "        point = pointArr[truncated] # finds the corresponding point of a segment\n",
    "        if 74 <= distance <= 84: # triples the point when triple ring is hit\n",
    "            point *= 3\n",
    "        elif 134 <= distance <= 144: # doubles the point when double ring is hit\n",
    "            point *= 2\n",
    "    return point\n",
    "\n",
    "# Testing some points very briefly:\n",
    "def unit_tests():\n",
    "    print(calculate_score_given_point(0,0)==50)\n",
    "    print(calculate_score_given_point(6,8)==50)\n",
    "    print(calculate_score_given_point(9,12)==25)\n",
    "    print(calculate_score_given_point(100,50)==13)\n",
    "    print(calculate_score_given_point(-100,50)==14)\n",
    "    print(calculate_score_given_point(-100,-50)==8)\n",
    "    print(calculate_score_given_point(100,-50)==10)\n",
    "\n",
    "# UNCOMMENT to call the simple test above\n",
    "#unit_tests()"
   ]
  },
  {
   "cell_type": "markdown",
   "metadata": {},
   "source": [
    "**Q.2.** Write a function that throws 3 random darts and then returns the total score:"
   ]
  },
  {
   "cell_type": "code",
   "execution_count": 2,
   "metadata": {},
   "outputs": [
    {
     "name": "stdout",
     "output_type": "stream",
     "text": [
      "16\n"
     ]
    }
   ],
   "source": [
    "def helper_random_throw():\n",
    "    \"\"\"\n",
    "    A helper function that makes a random shot and returns the point\n",
    "    \"\"\"\n",
    "    # calculates randomly drawn x and y, denoting the point of a dart throw\n",
    "    randX = random.randint(-200, 200)\n",
    "    randY = random.randint(-200, 200)\n",
    "    # uncomment the following line to see which points are drawn\n",
    "    # print(\"A dart is thrown and hits:\",randX,\",\",randY)\n",
    "    return calculate_score_given_point(randX,randY)\n",
    "\n",
    "def throw_random_darts(throw_count = 3):\n",
    "    \"\"\"\n",
    "    Throws 3 random darts and returns the total score\n",
    "    Parameters: Default count of throws is 3\n",
    "    Return Value: Calculates the total score from random throws as an integer\n",
    "    \"\"\"\n",
    "    total_score = 0 # initializes the total score as zero\n",
    "    for x in range(throw_count):\n",
    "        total_score += helper_random_throw()\n",
    "    return total_score\n",
    "\n",
    "print(throw_random_darts())"
   ]
  },
  {
   "cell_type": "markdown",
   "metadata": {},
   "source": [
    "**Q.3.** Write a function that sets a game of 1000 players, each one throws 20 darts, the individual scores are calculated as the sum of the best 10 shots, and then returns the top 10 players:"
   ]
  },
  {
   "cell_type": "code",
   "execution_count": 3,
   "metadata": {},
   "outputs": [
    {
     "name": "stdout",
     "output_type": "stream",
     "text": [
      "['Player904', 'Player421', 'Player869', 'Player669', 'Player705', 'Player599', 'Player377', 'Player797', 'Player601', 'Player905']\n"
     ]
    }
   ],
   "source": [
    "def multiplayer_game(player_count = 1000, throw_count = 20, return_top=10):\n",
    "    \"\"\"\n",
    "    Simulates a game for each of (by default) 1000 players by randomly throwing\n",
    "    20 darts for each and calculating the best 10 shot: Returns the top 10 players\n",
    "    Parameters: Player count, throw count and number of top throws to consider\n",
    "    Return Value: Top 10 player from the final score table\n",
    "    \"\"\"\n",
    "    score_table = [] # initializes a list to store the results for all players\n",
    "    for x in range(player_count):\n",
    "        player_x_throws = [] # a list to store throw results for each player\n",
    "        \n",
    "        for y in range(throw_count): # makes random throws and saves the points\n",
    "            result = helper_random_throw()\n",
    "            player_x_throws.append(result)\n",
    "            \n",
    "        sum_best_shots = 0 # to store the sum of the best 10 shots\n",
    "        player_x_throws.sort(reverse = True) # sorts the points in descending order\n",
    "        for z in range (return_top):\n",
    "            sum_best_shots += player_x_throws[z]\n",
    "            \n",
    "        #append this players result into final list\n",
    "        score_table.append([\"Player\" + str(x), sum_best_shots])\n",
    "    \n",
    "    score_table.sort(key=lambda x: x[1], reverse=True) # sorts the score table in descending order\n",
    "\n",
    "    # UNCOMMENT below to see the sorted list with corresponding points\n",
    "    #for k,v in score_table[:10]:\n",
    "    \t#print(k,v)\n",
    "    \n",
    "    top_players = [] # to be filled with the labels of top players\n",
    "    for k,v in score_table[:10]:\n",
    "       \ttop_players.append(k)\n",
    "    return top_players\n",
    "    \n",
    "print(multiplayer_game())"
   ]
  }
 ],
 "metadata": {
  "kernelspec": {
   "display_name": "Python 3",
   "language": "python",
   "name": "python3"
  },
  "language_info": {
   "codemirror_mode": {
    "name": "ipython",
    "version": 3
   },
   "file_extension": ".py",
   "mimetype": "text/x-python",
   "name": "python",
   "nbconvert_exporter": "python",
   "pygments_lexer": "ipython3",
   "version": "3.10.1"
  }
 },
 "nbformat": 4,
 "nbformat_minor": 2
}
